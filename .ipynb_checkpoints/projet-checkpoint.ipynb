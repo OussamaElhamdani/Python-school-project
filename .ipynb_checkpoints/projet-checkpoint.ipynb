{
 "cells": [
  {
   "cell_type": "markdown",
   "metadata": {},
   "source": [
    "# Notebook du projet"
   ]
  },
  {
   "cell_type": "markdown",
   "metadata": {},
   "source": [
    "### 1- Importation et Préparation de la dataset"
   ]
  },
  {
   "cell_type": "markdown",
   "metadata": {},
   "source": [
    "* Importer et mieux comprendre le dataset"
   ]
  },
  {
   "cell_type": "code",
   "execution_count": 38,
   "metadata": {},
   "outputs": [],
   "source": [
    "import pandas as pd"
   ]
  },
  {
   "cell_type": "code",
   "execution_count": 39,
   "metadata": {},
   "outputs": [
    {
     "data": {
      "text/html": [
       "<div>\n",
       "<style scoped>\n",
       "    .dataframe tbody tr th:only-of-type {\n",
       "        vertical-align: middle;\n",
       "    }\n",
       "\n",
       "    .dataframe tbody tr th {\n",
       "        vertical-align: top;\n",
       "    }\n",
       "\n",
       "    .dataframe thead th {\n",
       "        text-align: right;\n",
       "    }\n",
       "</style>\n",
       "<table border=\"1\" class=\"dataframe\">\n",
       "  <thead>\n",
       "    <tr style=\"text-align: right;\">\n",
       "      <th></th>\n",
       "      <th>Campagne</th>\n",
       "      <th>Rendement</th>\n",
       "      <th>ndvi_P0</th>\n",
       "      <th>ndvi_P1</th>\n",
       "      <th>ndvi_P2</th>\n",
       "      <th>ndvi_P3</th>\n",
       "      <th>ndvi_P4</th>\n",
       "      <th>ndvi_P5</th>\n",
       "      <th>ndvi_amplitude</th>\n",
       "      <th>tmoy_P0_Moy</th>\n",
       "      <th>...</th>\n",
       "      <th>rfe_P4</th>\n",
       "      <th>rfe_P5</th>\n",
       "      <th>rfe_std</th>\n",
       "      <th>swi_P0_Moy</th>\n",
       "      <th>swi_P1_Moy</th>\n",
       "      <th>swi_P2_Moy</th>\n",
       "      <th>swi_P3_Moy</th>\n",
       "      <th>swi_P4_Moy</th>\n",
       "      <th>swi_P5_Moy</th>\n",
       "      <th>swi_std</th>\n",
       "    </tr>\n",
       "  </thead>\n",
       "  <tbody>\n",
       "    <tr>\n",
       "      <th>0</th>\n",
       "      <td>2023</td>\n",
       "      <td>NaN</td>\n",
       "      <td>6937.632607</td>\n",
       "      <td>708.277539</td>\n",
       "      <td>754.210350</td>\n",
       "      <td>3188.349591</td>\n",
       "      <td>714.508766</td>\n",
       "      <td>1572.286362</td>\n",
       "      <td>39.003196</td>\n",
       "      <td>16.682056</td>\n",
       "      <td>...</td>\n",
       "      <td>7.620358</td>\n",
       "      <td>61.308898</td>\n",
       "      <td>40.391162</td>\n",
       "      <td>79.918110</td>\n",
       "      <td>86.375883</td>\n",
       "      <td>91.954104</td>\n",
       "      <td>91.790281</td>\n",
       "      <td>71.112095</td>\n",
       "      <td>57.243048</td>\n",
       "      <td>17.572625</td>\n",
       "    </tr>\n",
       "    <tr>\n",
       "      <th>1</th>\n",
       "      <td>2020</td>\n",
       "      <td>4.00</td>\n",
       "      <td>9037.909148</td>\n",
       "      <td>424.067594</td>\n",
       "      <td>1470.311565</td>\n",
       "      <td>4106.980551</td>\n",
       "      <td>1272.532723</td>\n",
       "      <td>1764.016714</td>\n",
       "      <td>40.998731</td>\n",
       "      <td>16.047921</td>\n",
       "      <td>...</td>\n",
       "      <td>10.996657</td>\n",
       "      <td>62.848852</td>\n",
       "      <td>43.993234</td>\n",
       "      <td>92.719736</td>\n",
       "      <td>75.921828</td>\n",
       "      <td>99.539719</td>\n",
       "      <td>102.609583</td>\n",
       "      <td>85.221631</td>\n",
       "      <td>76.915317</td>\n",
       "      <td>12.219110</td>\n",
       "    </tr>\n",
       "    <tr>\n",
       "      <th>2</th>\n",
       "      <td>2020</td>\n",
       "      <td>4.50</td>\n",
       "      <td>9037.909148</td>\n",
       "      <td>424.067594</td>\n",
       "      <td>1470.311565</td>\n",
       "      <td>4106.980551</td>\n",
       "      <td>1272.532723</td>\n",
       "      <td>1764.016714</td>\n",
       "      <td>40.998731</td>\n",
       "      <td>16.047921</td>\n",
       "      <td>...</td>\n",
       "      <td>10.996657</td>\n",
       "      <td>62.848852</td>\n",
       "      <td>43.993234</td>\n",
       "      <td>92.719736</td>\n",
       "      <td>75.921828</td>\n",
       "      <td>99.539719</td>\n",
       "      <td>102.609583</td>\n",
       "      <td>85.221631</td>\n",
       "      <td>76.915317</td>\n",
       "      <td>12.219110</td>\n",
       "    </tr>\n",
       "    <tr>\n",
       "      <th>3</th>\n",
       "      <td>2020</td>\n",
       "      <td>4.00</td>\n",
       "      <td>8036.070691</td>\n",
       "      <td>793.910187</td>\n",
       "      <td>495.323221</td>\n",
       "      <td>3921.030042</td>\n",
       "      <td>1177.608181</td>\n",
       "      <td>1648.199059</td>\n",
       "      <td>41.132432</td>\n",
       "      <td>16.377285</td>\n",
       "      <td>...</td>\n",
       "      <td>11.073161</td>\n",
       "      <td>62.651850</td>\n",
       "      <td>39.632458</td>\n",
       "      <td>87.032500</td>\n",
       "      <td>88.159466</td>\n",
       "      <td>90.310249</td>\n",
       "      <td>97.504443</td>\n",
       "      <td>80.478595</td>\n",
       "      <td>69.939774</td>\n",
       "      <td>12.773913</td>\n",
       "    </tr>\n",
       "    <tr>\n",
       "      <th>4</th>\n",
       "      <td>2020</td>\n",
       "      <td>4.25</td>\n",
       "      <td>8036.070691</td>\n",
       "      <td>793.910187</td>\n",
       "      <td>495.323221</td>\n",
       "      <td>3921.030042</td>\n",
       "      <td>1177.608181</td>\n",
       "      <td>1648.199059</td>\n",
       "      <td>41.132432</td>\n",
       "      <td>16.377285</td>\n",
       "      <td>...</td>\n",
       "      <td>11.073161</td>\n",
       "      <td>62.651850</td>\n",
       "      <td>39.632458</td>\n",
       "      <td>87.032500</td>\n",
       "      <td>88.159466</td>\n",
       "      <td>90.310249</td>\n",
       "      <td>97.504443</td>\n",
       "      <td>80.478595</td>\n",
       "      <td>69.939774</td>\n",
       "      <td>12.773913</td>\n",
       "    </tr>\n",
       "  </tbody>\n",
       "</table>\n",
       "<p>5 rows × 30 columns</p>\n",
       "</div>"
      ],
      "text/plain": [
       "   Campagne  Rendement      ndvi_P0     ndvi_P1      ndvi_P2      ndvi_P3  \\\n",
       "0      2023        NaN  6937.632607  708.277539   754.210350  3188.349591   \n",
       "1      2020       4.00  9037.909148  424.067594  1470.311565  4106.980551   \n",
       "2      2020       4.50  9037.909148  424.067594  1470.311565  4106.980551   \n",
       "3      2020       4.00  8036.070691  793.910187   495.323221  3921.030042   \n",
       "4      2020       4.25  8036.070691  793.910187   495.323221  3921.030042   \n",
       "\n",
       "       ndvi_P4      ndvi_P5  ndvi_amplitude  tmoy_P0_Moy  ...     rfe_P4  \\\n",
       "0   714.508766  1572.286362       39.003196    16.682056  ...   7.620358   \n",
       "1  1272.532723  1764.016714       40.998731    16.047921  ...  10.996657   \n",
       "2  1272.532723  1764.016714       40.998731    16.047921  ...  10.996657   \n",
       "3  1177.608181  1648.199059       41.132432    16.377285  ...  11.073161   \n",
       "4  1177.608181  1648.199059       41.132432    16.377285  ...  11.073161   \n",
       "\n",
       "      rfe_P5    rfe_std  swi_P0_Moy  swi_P1_Moy  swi_P2_Moy  swi_P3_Moy  \\\n",
       "0  61.308898  40.391162   79.918110   86.375883   91.954104   91.790281   \n",
       "1  62.848852  43.993234   92.719736   75.921828   99.539719  102.609583   \n",
       "2  62.848852  43.993234   92.719736   75.921828   99.539719  102.609583   \n",
       "3  62.651850  39.632458   87.032500   88.159466   90.310249   97.504443   \n",
       "4  62.651850  39.632458   87.032500   88.159466   90.310249   97.504443   \n",
       "\n",
       "   swi_P4_Moy  swi_P5_Moy    swi_std  \n",
       "0   71.112095   57.243048  17.572625  \n",
       "1   85.221631   76.915317  12.219110  \n",
       "2   85.221631   76.915317  12.219110  \n",
       "3   80.478595   69.939774  12.773913  \n",
       "4   80.478595   69.939774  12.773913  \n",
       "\n",
       "[5 rows x 30 columns]"
      ]
     },
     "execution_count": 39,
     "metadata": {},
     "output_type": "execute_result"
    }
   ],
   "source": [
    "#Importation de la dataset sous forme de dataframe\n",
    "df = pd.read_excel('rendement.xlsx')\n",
    "#Affichage de la dataset notament les 5 premiers lignes\n",
    "df.head()"
   ]
  },
  {
   "cell_type": "code",
   "execution_count": 40,
   "metadata": {},
   "outputs": [
    {
     "data": {
      "text/plain": [
       "(404, 30)"
      ]
     },
     "execution_count": 40,
     "metadata": {},
     "output_type": "execute_result"
    }
   ],
   "source": [
    "#Savoir les dimensions de la dataset\n",
    "df.shape"
   ]
  },
  {
   "cell_type": "code",
   "execution_count": 41,
   "metadata": {},
   "outputs": [
    {
     "name": "stdout",
     "output_type": "stream",
     "text": [
      "<class 'pandas.core.frame.DataFrame'>\n",
      "RangeIndex: 404 entries, 0 to 403\n",
      "Data columns (total 30 columns):\n",
      " #   Column          Non-Null Count  Dtype  \n",
      "---  ------          --------------  -----  \n",
      " 0   Campagne        404 non-null    int64  \n",
      " 1   Rendement       403 non-null    float64\n",
      " 2   ndvi_P0         404 non-null    float64\n",
      " 3   ndvi_P1         404 non-null    float64\n",
      " 4   ndvi_P2         404 non-null    float64\n",
      " 5   ndvi_P3         404 non-null    float64\n",
      " 6   ndvi_P4         404 non-null    float64\n",
      " 7   ndvi_P5         404 non-null    float64\n",
      " 8   ndvi_amplitude  404 non-null    float64\n",
      " 9   tmoy_P0_Moy     404 non-null    float64\n",
      " 10  tmoy_P1_Moy     404 non-null    float64\n",
      " 11  tmoy_P2_Moy     404 non-null    float64\n",
      " 12  tmoy_P3_Moy     404 non-null    float64\n",
      " 13  tmoy_P4_Moy     404 non-null    float64\n",
      " 14  tmoy_P5_Moy     404 non-null    float64\n",
      " 15  tmoy_amplitude  404 non-null    float64\n",
      " 16  rfe_P0          404 non-null    float64\n",
      " 17  rfe_P1          404 non-null    float64\n",
      " 18  rfe_P2          404 non-null    float64\n",
      " 19  rfe_P3          404 non-null    float64\n",
      " 20  rfe_P4          404 non-null    float64\n",
      " 21  rfe_P5          404 non-null    float64\n",
      " 22  rfe_std         404 non-null    float64\n",
      " 23  swi_P0_Moy      404 non-null    float64\n",
      " 24  swi_P1_Moy      396 non-null    float64\n",
      " 25  swi_P2_Moy      404 non-null    float64\n",
      " 26  swi_P3_Moy      404 non-null    float64\n",
      " 27  swi_P4_Moy      404 non-null    float64\n",
      " 28  swi_P5_Moy      404 non-null    float64\n",
      " 29  swi_std         404 non-null    float64\n",
      "dtypes: float64(29), int64(1)\n",
      "memory usage: 94.8 KB\n"
     ]
    }
   ],
   "source": [
    "#Savoir le type des valeurs dans chaque colonne ainsi que le nombre de valeurs non NaN(Not a Number);valeurs manquantes\n",
    "df.info()"
   ]
  },
  {
   "cell_type": "code",
   "execution_count": 42,
   "metadata": {},
   "outputs": [
    {
     "data": {
      "text/html": [
       "<div>\n",
       "<style scoped>\n",
       "    .dataframe tbody tr th:only-of-type {\n",
       "        vertical-align: middle;\n",
       "    }\n",
       "\n",
       "    .dataframe tbody tr th {\n",
       "        vertical-align: top;\n",
       "    }\n",
       "\n",
       "    .dataframe thead th {\n",
       "        text-align: right;\n",
       "    }\n",
       "</style>\n",
       "<table border=\"1\" class=\"dataframe\">\n",
       "  <thead>\n",
       "    <tr style=\"text-align: right;\">\n",
       "      <th></th>\n",
       "      <th>Campagne</th>\n",
       "      <th>Rendement</th>\n",
       "      <th>ndvi_P0</th>\n",
       "      <th>ndvi_P1</th>\n",
       "      <th>ndvi_P2</th>\n",
       "      <th>ndvi_P3</th>\n",
       "      <th>ndvi_P4</th>\n",
       "      <th>ndvi_P5</th>\n",
       "      <th>ndvi_amplitude</th>\n",
       "      <th>tmoy_P0_Moy</th>\n",
       "      <th>...</th>\n",
       "      <th>rfe_P4</th>\n",
       "      <th>rfe_P5</th>\n",
       "      <th>rfe_std</th>\n",
       "      <th>swi_P0_Moy</th>\n",
       "      <th>swi_P1_Moy</th>\n",
       "      <th>swi_P2_Moy</th>\n",
       "      <th>swi_P3_Moy</th>\n",
       "      <th>swi_P4_Moy</th>\n",
       "      <th>swi_P5_Moy</th>\n",
       "      <th>swi_std</th>\n",
       "    </tr>\n",
       "  </thead>\n",
       "  <tbody>\n",
       "    <tr>\n",
       "      <th>count</th>\n",
       "      <td>404.000000</td>\n",
       "      <td>403.000000</td>\n",
       "      <td>404.000000</td>\n",
       "      <td>404.000000</td>\n",
       "      <td>404.000000</td>\n",
       "      <td>404.000000</td>\n",
       "      <td>404.000000</td>\n",
       "      <td>404.000000</td>\n",
       "      <td>404.000000</td>\n",
       "      <td>404.000000</td>\n",
       "      <td>...</td>\n",
       "      <td>404.000000</td>\n",
       "      <td>404.000000</td>\n",
       "      <td>404.000000</td>\n",
       "      <td>404.000000</td>\n",
       "      <td>396.000000</td>\n",
       "      <td>404.000000</td>\n",
       "      <td>404.000000</td>\n",
       "      <td>404.000000</td>\n",
       "      <td>404.000000</td>\n",
       "      <td>404.000000</td>\n",
       "    </tr>\n",
       "    <tr>\n",
       "      <th>mean</th>\n",
       "      <td>2013.376238</td>\n",
       "      <td>14.176948</td>\n",
       "      <td>8889.313557</td>\n",
       "      <td>1898.313749</td>\n",
       "      <td>1952.837480</td>\n",
       "      <td>2725.419682</td>\n",
       "      <td>1321.387106</td>\n",
       "      <td>991.355541</td>\n",
       "      <td>43.608094</td>\n",
       "      <td>15.959820</td>\n",
       "      <td>...</td>\n",
       "      <td>27.974935</td>\n",
       "      <td>22.646545</td>\n",
       "      <td>64.336962</td>\n",
       "      <td>85.844208</td>\n",
       "      <td>90.961566</td>\n",
       "      <td>99.198170</td>\n",
       "      <td>91.595805</td>\n",
       "      <td>70.797214</td>\n",
       "      <td>62.747368</td>\n",
       "      <td>17.650150</td>\n",
       "    </tr>\n",
       "    <tr>\n",
       "      <th>std</th>\n",
       "      <td>4.024988</td>\n",
       "      <td>11.239933</td>\n",
       "      <td>1748.308264</td>\n",
       "      <td>630.322527</td>\n",
       "      <td>754.060865</td>\n",
       "      <td>872.247770</td>\n",
       "      <td>406.539006</td>\n",
       "      <td>342.992950</td>\n",
       "      <td>9.405235</td>\n",
       "      <td>1.158761</td>\n",
       "      <td>...</td>\n",
       "      <td>13.747818</td>\n",
       "      <td>17.920782</td>\n",
       "      <td>13.500400</td>\n",
       "      <td>16.875311</td>\n",
       "      <td>23.012696</td>\n",
       "      <td>20.900798</td>\n",
       "      <td>18.572565</td>\n",
       "      <td>16.742884</td>\n",
       "      <td>15.888839</td>\n",
       "      <td>6.429241</td>\n",
       "    </tr>\n",
       "    <tr>\n",
       "      <th>min</th>\n",
       "      <td>2007.000000</td>\n",
       "      <td>0.000000</td>\n",
       "      <td>4116.052665</td>\n",
       "      <td>395.303895</td>\n",
       "      <td>389.324977</td>\n",
       "      <td>702.289010</td>\n",
       "      <td>291.664310</td>\n",
       "      <td>390.349079</td>\n",
       "      <td>5.357222</td>\n",
       "      <td>14.122894</td>\n",
       "      <td>...</td>\n",
       "      <td>3.360416</td>\n",
       "      <td>4.520215</td>\n",
       "      <td>34.720830</td>\n",
       "      <td>40.196820</td>\n",
       "      <td>0.000000</td>\n",
       "      <td>34.173222</td>\n",
       "      <td>44.842238</td>\n",
       "      <td>33.947985</td>\n",
       "      <td>20.061749</td>\n",
       "      <td>5.951990</td>\n",
       "    </tr>\n",
       "    <tr>\n",
       "      <th>25%</th>\n",
       "      <td>2010.000000</td>\n",
       "      <td>4.560000</td>\n",
       "      <td>8029.538853</td>\n",
       "      <td>1553.132719</td>\n",
       "      <td>1576.535030</td>\n",
       "      <td>2325.742762</td>\n",
       "      <td>1157.843667</td>\n",
       "      <td>757.248690</td>\n",
       "      <td>40.277237</td>\n",
       "      <td>15.163357</td>\n",
       "      <td>...</td>\n",
       "      <td>17.407755</td>\n",
       "      <td>9.533380</td>\n",
       "      <td>56.358847</td>\n",
       "      <td>74.829104</td>\n",
       "      <td>77.694079</td>\n",
       "      <td>89.388603</td>\n",
       "      <td>80.616023</td>\n",
       "      <td>58.362390</td>\n",
       "      <td>51.691903</td>\n",
       "      <td>13.103713</td>\n",
       "    </tr>\n",
       "    <tr>\n",
       "      <th>50%</th>\n",
       "      <td>2013.000000</td>\n",
       "      <td>13.000000</td>\n",
       "      <td>9226.002997</td>\n",
       "      <td>1936.839313</td>\n",
       "      <td>1996.149313</td>\n",
       "      <td>2698.551655</td>\n",
       "      <td>1337.854736</td>\n",
       "      <td>927.132624</td>\n",
       "      <td>45.116830</td>\n",
       "      <td>15.672785</td>\n",
       "      <td>...</td>\n",
       "      <td>29.210948</td>\n",
       "      <td>13.023924</td>\n",
       "      <td>64.756757</td>\n",
       "      <td>90.134438</td>\n",
       "      <td>92.539421</td>\n",
       "      <td>101.786408</td>\n",
       "      <td>93.850756</td>\n",
       "      <td>71.581955</td>\n",
       "      <td>65.432791</td>\n",
       "      <td>16.350784</td>\n",
       "    </tr>\n",
       "    <tr>\n",
       "      <th>75%</th>\n",
       "      <td>2017.000000</td>\n",
       "      <td>22.000000</td>\n",
       "      <td>10053.023870</td>\n",
       "      <td>2342.399236</td>\n",
       "      <td>2475.598112</td>\n",
       "      <td>3234.312228</td>\n",
       "      <td>1539.350264</td>\n",
       "      <td>1158.189056</td>\n",
       "      <td>49.381661</td>\n",
       "      <td>16.480399</td>\n",
       "      <td>...</td>\n",
       "      <td>35.316797</td>\n",
       "      <td>34.479063</td>\n",
       "      <td>72.507899</td>\n",
       "      <td>97.996913</td>\n",
       "      <td>106.836112</td>\n",
       "      <td>111.513384</td>\n",
       "      <td>103.829737</td>\n",
       "      <td>83.798495</td>\n",
       "      <td>73.270786</td>\n",
       "      <td>22.270558</td>\n",
       "    </tr>\n",
       "    <tr>\n",
       "      <th>max</th>\n",
       "      <td>2023.000000</td>\n",
       "      <td>46.000000</td>\n",
       "      <td>12462.336859</td>\n",
       "      <td>4003.043892</td>\n",
       "      <td>3864.412277</td>\n",
       "      <td>5077.475170</td>\n",
       "      <td>2733.079821</td>\n",
       "      <td>2182.645713</td>\n",
       "      <td>66.046541</td>\n",
       "      <td>19.459441</td>\n",
       "      <td>...</td>\n",
       "      <td>69.750933</td>\n",
       "      <td>70.031165</td>\n",
       "      <td>92.144923</td>\n",
       "      <td>116.515707</td>\n",
       "      <td>132.590114</td>\n",
       "      <td>145.186168</td>\n",
       "      <td>131.008503</td>\n",
       "      <td>100.452326</td>\n",
       "      <td>98.401684</td>\n",
       "      <td>36.503505</td>\n",
       "    </tr>\n",
       "  </tbody>\n",
       "</table>\n",
       "<p>8 rows × 30 columns</p>\n",
       "</div>"
      ],
      "text/plain": [
       "          Campagne   Rendement       ndvi_P0      ndvi_P1      ndvi_P2  \\\n",
       "count   404.000000  403.000000    404.000000   404.000000   404.000000   \n",
       "mean   2013.376238   14.176948   8889.313557  1898.313749  1952.837480   \n",
       "std       4.024988   11.239933   1748.308264   630.322527   754.060865   \n",
       "min    2007.000000    0.000000   4116.052665   395.303895   389.324977   \n",
       "25%    2010.000000    4.560000   8029.538853  1553.132719  1576.535030   \n",
       "50%    2013.000000   13.000000   9226.002997  1936.839313  1996.149313   \n",
       "75%    2017.000000   22.000000  10053.023870  2342.399236  2475.598112   \n",
       "max    2023.000000   46.000000  12462.336859  4003.043892  3864.412277   \n",
       "\n",
       "           ndvi_P3      ndvi_P4      ndvi_P5  ndvi_amplitude  tmoy_P0_Moy  \\\n",
       "count   404.000000   404.000000   404.000000      404.000000   404.000000   \n",
       "mean   2725.419682  1321.387106   991.355541       43.608094    15.959820   \n",
       "std     872.247770   406.539006   342.992950        9.405235     1.158761   \n",
       "min     702.289010   291.664310   390.349079        5.357222    14.122894   \n",
       "25%    2325.742762  1157.843667   757.248690       40.277237    15.163357   \n",
       "50%    2698.551655  1337.854736   927.132624       45.116830    15.672785   \n",
       "75%    3234.312228  1539.350264  1158.189056       49.381661    16.480399   \n",
       "max    5077.475170  2733.079821  2182.645713       66.046541    19.459441   \n",
       "\n",
       "       ...      rfe_P4      rfe_P5     rfe_std  swi_P0_Moy  swi_P1_Moy  \\\n",
       "count  ...  404.000000  404.000000  404.000000  404.000000  396.000000   \n",
       "mean   ...   27.974935   22.646545   64.336962   85.844208   90.961566   \n",
       "std    ...   13.747818   17.920782   13.500400   16.875311   23.012696   \n",
       "min    ...    3.360416    4.520215   34.720830   40.196820    0.000000   \n",
       "25%    ...   17.407755    9.533380   56.358847   74.829104   77.694079   \n",
       "50%    ...   29.210948   13.023924   64.756757   90.134438   92.539421   \n",
       "75%    ...   35.316797   34.479063   72.507899   97.996913  106.836112   \n",
       "max    ...   69.750933   70.031165   92.144923  116.515707  132.590114   \n",
       "\n",
       "       swi_P2_Moy  swi_P3_Moy  swi_P4_Moy  swi_P5_Moy     swi_std  \n",
       "count  404.000000  404.000000  404.000000  404.000000  404.000000  \n",
       "mean    99.198170   91.595805   70.797214   62.747368   17.650150  \n",
       "std     20.900798   18.572565   16.742884   15.888839    6.429241  \n",
       "min     34.173222   44.842238   33.947985   20.061749    5.951990  \n",
       "25%     89.388603   80.616023   58.362390   51.691903   13.103713  \n",
       "50%    101.786408   93.850756   71.581955   65.432791   16.350784  \n",
       "75%    111.513384  103.829737   83.798495   73.270786   22.270558  \n",
       "max    145.186168  131.008503  100.452326   98.401684   36.503505  \n",
       "\n",
       "[8 rows x 30 columns]"
      ]
     },
     "execution_count": 42,
     "metadata": {},
     "output_type": "execute_result"
    }
   ],
   "source": [
    "#Avoir des statistiques sur la base de données notament le nombre de valeurs, les min/max, les écarts-types et les moyennes de chaque colonne\n",
    "df.describe()"
   ]
  },
  {
   "cell_type": "markdown",
   "metadata": {},
   "source": [
    "On remarque que le rendement moyen maximal est en 2013 (28.633333) et le rendement moyen minimal est en 2016 (0.115333)"
   ]
  },
  {
   "cell_type": "code",
   "execution_count": 43,
   "metadata": {},
   "outputs": [
    {
     "data": {
      "text/plain": [
       "Campagne\n",
       "2007     0.774333\n",
       "2008    15.431034\n",
       "2009    21.933333\n",
       "2010    11.599667\n",
       "2011    15.386667\n",
       "2012     7.214828\n",
       "2013    28.633333\n",
       "2014    16.964286\n",
       "2015    20.862069\n",
       "2016     0.115333\n",
       "2017    21.551724\n",
       "2018    24.566667\n",
       "2019    10.331579\n",
       "2020     2.166667\n",
       "2023          NaN\n",
       "Name: Rendement, dtype: float64"
      ]
     },
     "execution_count": 43,
     "metadata": {},
     "output_type": "execute_result"
    }
   ],
   "source": [
    "df['Rendement'].groupby(df['Campagne']).mean()"
   ]
  },
  {
   "cell_type": "markdown",
   "metadata": {},
   "source": [
    "On va juste visualiser le rendement moyen par Année"
   ]
  },
  {
   "cell_type": "code",
   "execution_count": 44,
   "metadata": {},
   "outputs": [
    {
     "data": {
      "text/plain": [
       "<AxesSubplot:title={'center':'Rendement moyen par Année'}, xlabel='Campagne'>"
      ]
     },
     "execution_count": 44,
     "metadata": {},
     "output_type": "execute_result"
    },
    {
     "data": {
      "image/png": "[encoded data removed]",
      "text/plain": [
       "<Figure size 720x360 with 1 Axes>"
      ]
     },
     "metadata": {
      "needs_background": "light"
     },
     "output_type": "display_data"
    }
   ],
   "source": [
    "df['Rendement'].groupby(df['Campagne']).mean().plot(kind='bar', figsize=(10, 5), title='Rendement moyen par Année')"
   ]
  },
  {
   "cell_type": "markdown",
   "metadata": {},
   "source": [
    "* Préparation de la dataset"
   ]
  },
  {
   "cell_type": "markdown",
   "metadata": {},
   "source": [
    "a- Traitement des valeurs manquantes"
   ]
  },
  {
   "cell_type": "code",
   "execution_count": 45,
   "metadata": {},
   "outputs": [
    {
     "data": {
      "text/plain": [
       "Campagne          0\n",
       "Rendement         1\n",
       "ndvi_P0           0\n",
       "ndvi_P1           0\n",
       "ndvi_P2           0\n",
       "ndvi_P3           0\n",
       "ndvi_P4           0\n",
       "ndvi_P5           0\n",
       "ndvi_amplitude    0\n",
       "tmoy_P0_Moy       0\n",
       "tmoy_P1_Moy       0\n",
       "tmoy_P2_Moy       0\n",
       "tmoy_P3_Moy       0\n",
       "tmoy_P4_Moy       0\n",
       "tmoy_P5_Moy       0\n",
       "tmoy_amplitude    0\n",
       "rfe_P0            0\n",
       "rfe_P1            0\n",
       "rfe_P2            0\n",
       "rfe_P3            0\n",
       "rfe_P4            0\n",
       "rfe_P5            0\n",
       "rfe_std           0\n",
       "swi_P0_Moy        0\n",
       "swi_P1_Moy        8\n",
       "swi_P2_Moy        0\n",
       "swi_P3_Moy        0\n",
       "swi_P4_Moy        0\n",
       "swi_P5_Moy        0\n",
       "swi_std           0\n",
       "dtype: int64"
      ]
     },
     "execution_count": 45,
     "metadata": {},
     "output_type": "execute_result"
    }
   ],
   "source": [
    "df.isnull().sum()"
   ]
  },
  {
   "cell_type": "markdown",
   "metadata": {},
   "source": [
    "On remarque qu'il y a des valeurs manquantes dans les colonnes suivantes:\n",
    "- \"Rendement\" : 1 valeur (C'est la variable à prédire)\n",
    "- \"swi_P1_Moy\" : 8 valeurs"
   ]
  },
  {
   "cell_type": "markdown",
   "metadata": {},
   "source": [
    "Pour gérer les valeurs manquantes il y a deux solutions:\n",
    "- Supprimer les lignes qui contiennent des valeurs manquantes\n",
    "- Remplacer les valeurs manquantes par la moyenne ou bien la médiane de la colonne.\n",
    "\n",
    "Mais dans notre cas, on va se contenter de supprimer les lignes qui contiennent des valeurs manquantes. Et cela pour la raison que:\n",
    "- la colonne \"swi_P1_Moy\" contient 8 valeurs manquantes, ce qui est négligeable par rapport au nombre total de lignes (404 lignes)\n"
   ]
  },
  {
   "cell_type": "code",
   "execution_count": 46,
   "metadata": {},
   "outputs": [
    {
     "data": {
      "text/plain": [
       "((404, 30), (404, 30))"
      ]
     },
     "execution_count": 46,
     "metadata": {},
     "output_type": "execute_result"
    }
   ],
   "source": [
    "#Tout d'abord\n",
    "#Créer une copie de la dataframe avant de supprimer les valeurs manquantes\n",
    "df_final = df.copy()\n",
    "#Afficher les dimensions des 2 dataframes \n",
    "df.shape,df_final.shape"
   ]
  },
  {
   "cell_type": "markdown",
   "metadata": {},
   "source": [
    "Supprimer les lignes qui contiennent des valeurs manquantes"
   ]
  },
  {
   "cell_type": "code",
   "execution_count": 47,
   "metadata": {},
   "outputs": [],
   "source": [
    "df_final.dropna(subset=['swi_P1_Moy'],inplace=True)"
   ]
  },
  {
   "cell_type": "markdown",
   "metadata": {},
   "source": [
    "On teste une autre fois si on a des valeurs manquantes.\n",
    "Et on remarque qu'il n'y a plus de valeurs manquantes dans la colonne \"swi_P1_Moy\"."
   ]
  },
  {
   "cell_type": "code",
   "execution_count": 48,
   "metadata": {},
   "outputs": [
    {
     "data": {
      "text/plain": [
       "Campagne          0\n",
       "Rendement         1\n",
       "ndvi_P0           0\n",
       "ndvi_P1           0\n",
       "ndvi_P2           0\n",
       "ndvi_P3           0\n",
       "ndvi_P4           0\n",
       "ndvi_P5           0\n",
       "ndvi_amplitude    0\n",
       "tmoy_P0_Moy       0\n",
       "tmoy_P1_Moy       0\n",
       "tmoy_P2_Moy       0\n",
       "tmoy_P3_Moy       0\n",
       "tmoy_P4_Moy       0\n",
       "tmoy_P5_Moy       0\n",
       "tmoy_amplitude    0\n",
       "rfe_P0            0\n",
       "rfe_P1            0\n",
       "rfe_P2            0\n",
       "rfe_P3            0\n",
       "rfe_P4            0\n",
       "rfe_P5            0\n",
       "rfe_std           0\n",
       "swi_P0_Moy        0\n",
       "swi_P1_Moy        0\n",
       "swi_P2_Moy        0\n",
       "swi_P3_Moy        0\n",
       "swi_P4_Moy        0\n",
       "swi_P5_Moy        0\n",
       "swi_std           0\n",
       "dtype: int64"
      ]
     },
     "execution_count": 48,
     "metadata": {},
     "output_type": "execute_result"
    }
   ],
   "source": [
    "df_final.isnull().sum()"
   ]
  },
  {
   "cell_type": "code",
   "execution_count": 49,
   "metadata": {},
   "outputs": [
    {
     "data": {
      "text/plain": [
       "(396, 30)"
      ]
     },
     "execution_count": 49,
     "metadata": {},
     "output_type": "execute_result"
    }
   ],
   "source": [
    "df_final.shape"
   ]
  },
  {
   "cell_type": "markdown",
   "metadata": {},
   "source": [
    "Alors il ne reste que 396 lignes dans la dataset."
   ]
  },
  {
   "cell_type": "code",
   "execution_count": 50,
   "metadata": {},
   "outputs": [
    {
     "data": {
      "text/html": [
       "<div>\n",
       "<style scoped>\n",
       "    .dataframe tbody tr th:only-of-type {\n",
       "        vertical-align: middle;\n",
       "    }\n",
       "\n",
       "    .dataframe tbody tr th {\n",
       "        vertical-align: top;\n",
       "    }\n",
       "\n",
       "    .dataframe thead th {\n",
       "        text-align: right;\n",
       "    }\n",
       "</style>\n",
       "<table border=\"1\" class=\"dataframe\">\n",
       "  <thead>\n",
       "    <tr style=\"text-align: right;\">\n",
       "      <th></th>\n",
       "      <th>Campagne</th>\n",
       "      <th>Rendement</th>\n",
       "      <th>ndvi_P0</th>\n",
       "      <th>ndvi_P1</th>\n",
       "      <th>ndvi_P2</th>\n",
       "      <th>ndvi_P3</th>\n",
       "      <th>ndvi_P4</th>\n",
       "      <th>ndvi_P5</th>\n",
       "      <th>ndvi_amplitude</th>\n",
       "      <th>tmoy_P0_Moy</th>\n",
       "      <th>...</th>\n",
       "      <th>rfe_P4</th>\n",
       "      <th>rfe_P5</th>\n",
       "      <th>rfe_std</th>\n",
       "      <th>swi_P0_Moy</th>\n",
       "      <th>swi_P1_Moy</th>\n",
       "      <th>swi_P2_Moy</th>\n",
       "      <th>swi_P3_Moy</th>\n",
       "      <th>swi_P4_Moy</th>\n",
       "      <th>swi_P5_Moy</th>\n",
       "      <th>swi_std</th>\n",
       "    </tr>\n",
       "  </thead>\n",
       "  <tbody>\n",
       "    <tr>\n",
       "      <th>0</th>\n",
       "      <td>2023</td>\n",
       "      <td>NaN</td>\n",
       "      <td>6937.632607</td>\n",
       "      <td>708.277539</td>\n",
       "      <td>754.210350</td>\n",
       "      <td>3188.349591</td>\n",
       "      <td>714.508766</td>\n",
       "      <td>1572.286362</td>\n",
       "      <td>39.003196</td>\n",
       "      <td>16.682056</td>\n",
       "      <td>...</td>\n",
       "      <td>7.620358</td>\n",
       "      <td>61.308898</td>\n",
       "      <td>40.391162</td>\n",
       "      <td>79.918110</td>\n",
       "      <td>86.375883</td>\n",
       "      <td>91.954104</td>\n",
       "      <td>91.790281</td>\n",
       "      <td>71.112095</td>\n",
       "      <td>57.243048</td>\n",
       "      <td>17.572625</td>\n",
       "    </tr>\n",
       "    <tr>\n",
       "      <th>1</th>\n",
       "      <td>2020</td>\n",
       "      <td>4.00</td>\n",
       "      <td>9037.909148</td>\n",
       "      <td>424.067594</td>\n",
       "      <td>1470.311565</td>\n",
       "      <td>4106.980551</td>\n",
       "      <td>1272.532723</td>\n",
       "      <td>1764.016714</td>\n",
       "      <td>40.998731</td>\n",
       "      <td>16.047921</td>\n",
       "      <td>...</td>\n",
       "      <td>10.996657</td>\n",
       "      <td>62.848852</td>\n",
       "      <td>43.993234</td>\n",
       "      <td>92.719736</td>\n",
       "      <td>75.921828</td>\n",
       "      <td>99.539719</td>\n",
       "      <td>102.609583</td>\n",
       "      <td>85.221631</td>\n",
       "      <td>76.915317</td>\n",
       "      <td>12.219110</td>\n",
       "    </tr>\n",
       "    <tr>\n",
       "      <th>2</th>\n",
       "      <td>2020</td>\n",
       "      <td>4.50</td>\n",
       "      <td>9037.909148</td>\n",
       "      <td>424.067594</td>\n",
       "      <td>1470.311565</td>\n",
       "      <td>4106.980551</td>\n",
       "      <td>1272.532723</td>\n",
       "      <td>1764.016714</td>\n",
       "      <td>40.998731</td>\n",
       "      <td>16.047921</td>\n",
       "      <td>...</td>\n",
       "      <td>10.996657</td>\n",
       "      <td>62.848852</td>\n",
       "      <td>43.993234</td>\n",
       "      <td>92.719736</td>\n",
       "      <td>75.921828</td>\n",
       "      <td>99.539719</td>\n",
       "      <td>102.609583</td>\n",
       "      <td>85.221631</td>\n",
       "      <td>76.915317</td>\n",
       "      <td>12.219110</td>\n",
       "    </tr>\n",
       "    <tr>\n",
       "      <th>3</th>\n",
       "      <td>2020</td>\n",
       "      <td>4.00</td>\n",
       "      <td>8036.070691</td>\n",
       "      <td>793.910187</td>\n",
       "      <td>495.323221</td>\n",
       "      <td>3921.030042</td>\n",
       "      <td>1177.608181</td>\n",
       "      <td>1648.199059</td>\n",
       "      <td>41.132432</td>\n",
       "      <td>16.377285</td>\n",
       "      <td>...</td>\n",
       "      <td>11.073161</td>\n",
       "      <td>62.651850</td>\n",
       "      <td>39.632458</td>\n",
       "      <td>87.032500</td>\n",
       "      <td>88.159466</td>\n",
       "      <td>90.310249</td>\n",
       "      <td>97.504443</td>\n",
       "      <td>80.478595</td>\n",
       "      <td>69.939774</td>\n",
       "      <td>12.773913</td>\n",
       "    </tr>\n",
       "    <tr>\n",
       "      <th>4</th>\n",
       "      <td>2020</td>\n",
       "      <td>4.25</td>\n",
       "      <td>8036.070691</td>\n",
       "      <td>793.910187</td>\n",
       "      <td>495.323221</td>\n",
       "      <td>3921.030042</td>\n",
       "      <td>1177.608181</td>\n",
       "      <td>1648.199059</td>\n",
       "      <td>41.132432</td>\n",
       "      <td>16.377285</td>\n",
       "      <td>...</td>\n",
       "      <td>11.073161</td>\n",
       "      <td>62.651850</td>\n",
       "      <td>39.632458</td>\n",
       "      <td>87.032500</td>\n",
       "      <td>88.159466</td>\n",
       "      <td>90.310249</td>\n",
       "      <td>97.504443</td>\n",
       "      <td>80.478595</td>\n",
       "      <td>69.939774</td>\n",
       "      <td>12.773913</td>\n",
       "    </tr>\n",
       "  </tbody>\n",
       "</table>\n",
       "<p>5 rows × 30 columns</p>\n",
       "</div>"
      ],
      "text/plain": [
       "   Campagne  Rendement      ndvi_P0     ndvi_P1      ndvi_P2      ndvi_P3  \\\n",
       "0      2023        NaN  6937.632607  708.277539   754.210350  3188.349591   \n",
       "1      2020       4.00  9037.909148  424.067594  1470.311565  4106.980551   \n",
       "2      2020       4.50  9037.909148  424.067594  1470.311565  4106.980551   \n",
       "3      2020       4.00  8036.070691  793.910187   495.323221  3921.030042   \n",
       "4      2020       4.25  8036.070691  793.910187   495.323221  3921.030042   \n",
       "\n",
       "       ndvi_P4      ndvi_P5  ndvi_amplitude  tmoy_P0_Moy  ...     rfe_P4  \\\n",
       "0   714.508766  1572.286362       39.003196    16.682056  ...   7.620358   \n",
       "1  1272.532723  1764.016714       40.998731    16.047921  ...  10.996657   \n",
       "2  1272.532723  1764.016714       40.998731    16.047921  ...  10.996657   \n",
       "3  1177.608181  1648.199059       41.132432    16.377285  ...  11.073161   \n",
       "4  1177.608181  1648.199059       41.132432    16.377285  ...  11.073161   \n",
       "\n",
       "      rfe_P5    rfe_std  swi_P0_Moy  swi_P1_Moy  swi_P2_Moy  swi_P3_Moy  \\\n",
       "0  61.308898  40.391162   79.918110   86.375883   91.954104   91.790281   \n",
       "1  62.848852  43.993234   92.719736   75.921828   99.539719  102.609583   \n",
       "2  62.848852  43.993234   92.719736   75.921828   99.539719  102.609583   \n",
       "3  62.651850  39.632458   87.032500   88.159466   90.310249   97.504443   \n",
       "4  62.651850  39.632458   87.032500   88.159466   90.310249   97.504443   \n",
       "\n",
       "   swi_P4_Moy  swi_P5_Moy    swi_std  \n",
       "0   71.112095   57.243048  17.572625  \n",
       "1   85.221631   76.915317  12.219110  \n",
       "2   85.221631   76.915317  12.219110  \n",
       "3   80.478595   69.939774  12.773913  \n",
       "4   80.478595   69.939774  12.773913  \n",
       "\n",
       "[5 rows x 30 columns]"
      ]
     },
     "execution_count": 50,
     "metadata": {},
     "output_type": "execute_result"
    }
   ],
   "source": [
    "df_final.head()"
   ]
  },
  {
   "cell_type": "markdown",
   "metadata": {},
   "source": [
    "b- Diviser (Split) de la dataset en train et test dataset"
   ]
  },
  {
   "cell_type": "markdown",
   "metadata": {},
   "source": [
    "Mais avant tous cela, on va supprimer la première ligne qui contient la valeur à prédire dans la colonne \"Rendement\" car elle ne fait pas partie de la dataset.\n",
    "\n",
    "Ainsi, on va supprimer la 1ere colonne qui contient la date \"Campagne\" car elle ne nous sera pas utile pour la prédiction. "
   ]
  },
  {
   "cell_type": "code",
   "execution_count": 51,
   "metadata": {},
   "outputs": [],
   "source": [
    "#Supprimer la 1ère colonne\n",
    "df_final.drop('Campagne', axis=1, inplace=True)\n",
    "#Supprimer la 1ère ligne \n",
    "df_final.drop(0, axis=0, inplace=True)"
   ]
  },
  {
   "cell_type": "code",
   "execution_count": 52,
   "metadata": {},
   "outputs": [
    {
     "data": {
      "text/html": [
       "<div>\n",
       "<style scoped>\n",
       "    .dataframe tbody tr th:only-of-type {\n",
       "        vertical-align: middle;\n",
       "    }\n",
       "\n",
       "    .dataframe tbody tr th {\n",
       "        vertical-align: top;\n",
       "    }\n",
       "\n",
       "    .dataframe thead th {\n",
       "        text-align: right;\n",
       "    }\n",
       "</style>\n",
       "<table border=\"1\" class=\"dataframe\">\n",
       "  <thead>\n",
       "    <tr style=\"text-align: right;\">\n",
       "      <th></th>\n",
       "      <th>Campagne</th>\n",
       "      <th>Rendement</th>\n",
       "      <th>ndvi_P0</th>\n",
       "      <th>ndvi_P1</th>\n",
       "      <th>ndvi_P2</th>\n",
       "      <th>ndvi_P3</th>\n",
       "      <th>ndvi_P4</th>\n",
       "      <th>ndvi_P5</th>\n",
       "      <th>ndvi_amplitude</th>\n",
       "      <th>tmoy_P0_Moy</th>\n",
       "      <th>...</th>\n",
       "      <th>rfe_P4</th>\n",
       "      <th>rfe_P5</th>\n",
       "      <th>rfe_std</th>\n",
       "      <th>swi_P0_Moy</th>\n",
       "      <th>swi_P1_Moy</th>\n",
       "      <th>swi_P2_Moy</th>\n",
       "      <th>swi_P3_Moy</th>\n",
       "      <th>swi_P4_Moy</th>\n",
       "      <th>swi_P5_Moy</th>\n",
       "      <th>swi_std</th>\n",
       "    </tr>\n",
       "  </thead>\n",
       "  <tbody>\n",
       "    <tr>\n",
       "      <th>0</th>\n",
       "      <td>2023</td>\n",
       "      <td>NaN</td>\n",
       "      <td>6937.632607</td>\n",
       "      <td>708.277539</td>\n",
       "      <td>754.210350</td>\n",
       "      <td>3188.349591</td>\n",
       "      <td>714.508766</td>\n",
       "      <td>1572.286362</td>\n",
       "      <td>39.003196</td>\n",
       "      <td>16.682056</td>\n",
       "      <td>...</td>\n",
       "      <td>7.620358</td>\n",
       "      <td>61.308898</td>\n",
       "      <td>40.391162</td>\n",
       "      <td>79.918110</td>\n",
       "      <td>86.375883</td>\n",
       "      <td>91.954104</td>\n",
       "      <td>91.790281</td>\n",
       "      <td>71.112095</td>\n",
       "      <td>57.243048</td>\n",
       "      <td>17.572625</td>\n",
       "    </tr>\n",
       "    <tr>\n",
       "      <th>1</th>\n",
       "      <td>2020</td>\n",
       "      <td>4.00</td>\n",
       "      <td>9037.909148</td>\n",
       "      <td>424.067594</td>\n",
       "      <td>1470.311565</td>\n",
       "      <td>4106.980551</td>\n",
       "      <td>1272.532723</td>\n",
       "      <td>1764.016714</td>\n",
       "      <td>40.998731</td>\n",
       "      <td>16.047921</td>\n",
       "      <td>...</td>\n",
       "      <td>10.996657</td>\n",
       "      <td>62.848852</td>\n",
       "      <td>43.993234</td>\n",
       "      <td>92.719736</td>\n",
       "      <td>75.921828</td>\n",
       "      <td>99.539719</td>\n",
       "      <td>102.609583</td>\n",
       "      <td>85.221631</td>\n",
       "      <td>76.915317</td>\n",
       "      <td>12.219110</td>\n",
       "    </tr>\n",
       "    <tr>\n",
       "      <th>2</th>\n",
       "      <td>2020</td>\n",
       "      <td>4.50</td>\n",
       "      <td>9037.909148</td>\n",
       "      <td>424.067594</td>\n",
       "      <td>1470.311565</td>\n",
       "      <td>4106.980551</td>\n",
       "      <td>1272.532723</td>\n",
       "      <td>1764.016714</td>\n",
       "      <td>40.998731</td>\n",
       "      <td>16.047921</td>\n",
       "      <td>...</td>\n",
       "      <td>10.996657</td>\n",
       "      <td>62.848852</td>\n",
       "      <td>43.993234</td>\n",
       "      <td>92.719736</td>\n",
       "      <td>75.921828</td>\n",
       "      <td>99.539719</td>\n",
       "      <td>102.609583</td>\n",
       "      <td>85.221631</td>\n",
       "      <td>76.915317</td>\n",
       "      <td>12.219110</td>\n",
       "    </tr>\n",
       "    <tr>\n",
       "      <th>3</th>\n",
       "      <td>2020</td>\n",
       "      <td>4.00</td>\n",
       "      <td>8036.070691</td>\n",
       "      <td>793.910187</td>\n",
       "      <td>495.323221</td>\n",
       "      <td>3921.030042</td>\n",
       "      <td>1177.608181</td>\n",
       "      <td>1648.199059</td>\n",
       "      <td>41.132432</td>\n",
       "      <td>16.377285</td>\n",
       "      <td>...</td>\n",
       "      <td>11.073161</td>\n",
       "      <td>62.651850</td>\n",
       "      <td>39.632458</td>\n",
       "      <td>87.032500</td>\n",
       "      <td>88.159466</td>\n",
       "      <td>90.310249</td>\n",
       "      <td>97.504443</td>\n",
       "      <td>80.478595</td>\n",
       "      <td>69.939774</td>\n",
       "      <td>12.773913</td>\n",
       "    </tr>\n",
       "    <tr>\n",
       "      <th>4</th>\n",
       "      <td>2020</td>\n",
       "      <td>4.25</td>\n",
       "      <td>8036.070691</td>\n",
       "      <td>793.910187</td>\n",
       "      <td>495.323221</td>\n",
       "      <td>3921.030042</td>\n",
       "      <td>1177.608181</td>\n",
       "      <td>1648.199059</td>\n",
       "      <td>41.132432</td>\n",
       "      <td>16.377285</td>\n",
       "      <td>...</td>\n",
       "      <td>11.073161</td>\n",
       "      <td>62.651850</td>\n",
       "      <td>39.632458</td>\n",
       "      <td>87.032500</td>\n",
       "      <td>88.159466</td>\n",
       "      <td>90.310249</td>\n",
       "      <td>97.504443</td>\n",
       "      <td>80.478595</td>\n",
       "      <td>69.939774</td>\n",
       "      <td>12.773913</td>\n",
       "    </tr>\n",
       "  </tbody>\n",
       "</table>\n",
       "<p>5 rows × 30 columns</p>\n",
       "</div>"
      ],
      "text/plain": [
       "   Campagne  Rendement      ndvi_P0     ndvi_P1      ndvi_P2      ndvi_P3  \\\n",
       "0      2023        NaN  6937.632607  708.277539   754.210350  3188.349591   \n",
       "1      2020       4.00  9037.909148  424.067594  1470.311565  4106.980551   \n",
       "2      2020       4.50  9037.909148  424.067594  1470.311565  4106.980551   \n",
       "3      2020       4.00  8036.070691  793.910187   495.323221  3921.030042   \n",
       "4      2020       4.25  8036.070691  793.910187   495.323221  3921.030042   \n",
       "\n",
       "       ndvi_P4      ndvi_P5  ndvi_amplitude  tmoy_P0_Moy  ...     rfe_P4  \\\n",
       "0   714.508766  1572.286362       39.003196    16.682056  ...   7.620358   \n",
       "1  1272.532723  1764.016714       40.998731    16.047921  ...  10.996657   \n",
       "2  1272.532723  1764.016714       40.998731    16.047921  ...  10.996657   \n",
       "3  1177.608181  1648.199059       41.132432    16.377285  ...  11.073161   \n",
       "4  1177.608181  1648.199059       41.132432    16.377285  ...  11.073161   \n",
       "\n",
       "      rfe_P5    rfe_std  swi_P0_Moy  swi_P1_Moy  swi_P2_Moy  swi_P3_Moy  \\\n",
       "0  61.308898  40.391162   79.918110   86.375883   91.954104   91.790281   \n",
       "1  62.848852  43.993234   92.719736   75.921828   99.539719  102.609583   \n",
       "2  62.848852  43.993234   92.719736   75.921828   99.539719  102.609583   \n",
       "3  62.651850  39.632458   87.032500   88.159466   90.310249   97.504443   \n",
       "4  62.651850  39.632458   87.032500   88.159466   90.310249   97.504443   \n",
       "\n",
       "   swi_P4_Moy  swi_P5_Moy    swi_std  \n",
       "0   71.112095   57.243048  17.572625  \n",
       "1   85.221631   76.915317  12.219110  \n",
       "2   85.221631   76.915317  12.219110  \n",
       "3   80.478595   69.939774  12.773913  \n",
       "4   80.478595   69.939774  12.773913  \n",
       "\n",
       "[5 rows x 30 columns]"
      ]
     },
     "execution_count": 52,
     "metadata": {},
     "output_type": "execute_result"
    }
   ],
   "source": [
    "df.head()"
   ]
  },
  {
   "cell_type": "code",
   "execution_count": 53,
   "metadata": {},
   "outputs": [
    {
     "data": {
      "text/html": [
       "<div>\n",
       "<style scoped>\n",
       "    .dataframe tbody tr th:only-of-type {\n",
       "        vertical-align: middle;\n",
       "    }\n",
       "\n",
       "    .dataframe tbody tr th {\n",
       "        vertical-align: top;\n",
       "    }\n",
       "\n",
       "    .dataframe thead th {\n",
       "        text-align: right;\n",
       "    }\n",
       "</style>\n",
       "<table border=\"1\" class=\"dataframe\">\n",
       "  <thead>\n",
       "    <tr style=\"text-align: right;\">\n",
       "      <th></th>\n",
       "      <th>Rendement</th>\n",
       "      <th>ndvi_P0</th>\n",
       "      <th>ndvi_P1</th>\n",
       "      <th>ndvi_P2</th>\n",
       "      <th>ndvi_P3</th>\n",
       "      <th>ndvi_P4</th>\n",
       "      <th>ndvi_P5</th>\n",
       "      <th>ndvi_amplitude</th>\n",
       "      <th>tmoy_P0_Moy</th>\n",
       "      <th>tmoy_P1_Moy</th>\n",
       "      <th>...</th>\n",
       "      <th>rfe_P4</th>\n",
       "      <th>rfe_P5</th>\n",
       "      <th>rfe_std</th>\n",
       "      <th>swi_P0_Moy</th>\n",
       "      <th>swi_P1_Moy</th>\n",
       "      <th>swi_P2_Moy</th>\n",
       "      <th>swi_P3_Moy</th>\n",
       "      <th>swi_P4_Moy</th>\n",
       "      <th>swi_P5_Moy</th>\n",
       "      <th>swi_std</th>\n",
       "    </tr>\n",
       "  </thead>\n",
       "  <tbody>\n",
       "    <tr>\n",
       "      <th>1</th>\n",
       "      <td>4.00</td>\n",
       "      <td>9037.909148</td>\n",
       "      <td>424.067594</td>\n",
       "      <td>1470.311565</td>\n",
       "      <td>4106.980551</td>\n",
       "      <td>1272.532723</td>\n",
       "      <td>1764.016714</td>\n",
       "      <td>40.998731</td>\n",
       "      <td>16.047921</td>\n",
       "      <td>13.250036</td>\n",
       "      <td>...</td>\n",
       "      <td>10.996657</td>\n",
       "      <td>62.848852</td>\n",
       "      <td>43.993234</td>\n",
       "      <td>92.719736</td>\n",
       "      <td>75.921828</td>\n",
       "      <td>99.539719</td>\n",
       "      <td>102.609583</td>\n",
       "      <td>85.221631</td>\n",
       "      <td>76.915317</td>\n",
       "      <td>12.219110</td>\n",
       "    </tr>\n",
       "    <tr>\n",
       "      <th>2</th>\n",
       "      <td>4.50</td>\n",
       "      <td>9037.909148</td>\n",
       "      <td>424.067594</td>\n",
       "      <td>1470.311565</td>\n",
       "      <td>4106.980551</td>\n",
       "      <td>1272.532723</td>\n",
       "      <td>1764.016714</td>\n",
       "      <td>40.998731</td>\n",
       "      <td>16.047921</td>\n",
       "      <td>13.250036</td>\n",
       "      <td>...</td>\n",
       "      <td>10.996657</td>\n",
       "      <td>62.848852</td>\n",
       "      <td>43.993234</td>\n",
       "      <td>92.719736</td>\n",
       "      <td>75.921828</td>\n",
       "      <td>99.539719</td>\n",
       "      <td>102.609583</td>\n",
       "      <td>85.221631</td>\n",
       "      <td>76.915317</td>\n",
       "      <td>12.219110</td>\n",
       "    </tr>\n",
       "    <tr>\n",
       "      <th>3</th>\n",
       "      <td>4.00</td>\n",
       "      <td>8036.070691</td>\n",
       "      <td>793.910187</td>\n",
       "      <td>495.323221</td>\n",
       "      <td>3921.030042</td>\n",
       "      <td>1177.608181</td>\n",
       "      <td>1648.199059</td>\n",
       "      <td>41.132432</td>\n",
       "      <td>16.377285</td>\n",
       "      <td>13.326939</td>\n",
       "      <td>...</td>\n",
       "      <td>11.073161</td>\n",
       "      <td>62.651850</td>\n",
       "      <td>39.632458</td>\n",
       "      <td>87.032500</td>\n",
       "      <td>88.159466</td>\n",
       "      <td>90.310249</td>\n",
       "      <td>97.504443</td>\n",
       "      <td>80.478595</td>\n",
       "      <td>69.939774</td>\n",
       "      <td>12.773913</td>\n",
       "    </tr>\n",
       "    <tr>\n",
       "      <th>4</th>\n",
       "      <td>4.25</td>\n",
       "      <td>8036.070691</td>\n",
       "      <td>793.910187</td>\n",
       "      <td>495.323221</td>\n",
       "      <td>3921.030042</td>\n",
       "      <td>1177.608181</td>\n",
       "      <td>1648.199059</td>\n",
       "      <td>41.132432</td>\n",
       "      <td>16.377285</td>\n",
       "      <td>13.326939</td>\n",
       "      <td>...</td>\n",
       "      <td>11.073161</td>\n",
       "      <td>62.651850</td>\n",
       "      <td>39.632458</td>\n",
       "      <td>87.032500</td>\n",
       "      <td>88.159466</td>\n",
       "      <td>90.310249</td>\n",
       "      <td>97.504443</td>\n",
       "      <td>80.478595</td>\n",
       "      <td>69.939774</td>\n",
       "      <td>12.773913</td>\n",
       "    </tr>\n",
       "    <tr>\n",
       "      <th>5</th>\n",
       "      <td>3.50</td>\n",
       "      <td>6777.351883</td>\n",
       "      <td>938.874158</td>\n",
       "      <td>659.548465</td>\n",
       "      <td>2896.122658</td>\n",
       "      <td>723.337866</td>\n",
       "      <td>1559.468736</td>\n",
       "      <td>36.682100</td>\n",
       "      <td>15.784672</td>\n",
       "      <td>13.569840</td>\n",
       "      <td>...</td>\n",
       "      <td>7.109621</td>\n",
       "      <td>54.290442</td>\n",
       "      <td>37.846647</td>\n",
       "      <td>90.424877</td>\n",
       "      <td>95.458143</td>\n",
       "      <td>98.171550</td>\n",
       "      <td>97.868668</td>\n",
       "      <td>83.102374</td>\n",
       "      <td>74.574523</td>\n",
       "      <td>11.936150</td>\n",
       "    </tr>\n",
       "  </tbody>\n",
       "</table>\n",
       "<p>5 rows × 29 columns</p>\n",
       "</div>"
      ],
      "text/plain": [
       "   Rendement      ndvi_P0     ndvi_P1      ndvi_P2      ndvi_P3      ndvi_P4  \\\n",
       "1       4.00  9037.909148  424.067594  1470.311565  4106.980551  1272.532723   \n",
       "2       4.50  9037.909148  424.067594  1470.311565  4106.980551  1272.532723   \n",
       "3       4.00  8036.070691  793.910187   495.323221  3921.030042  1177.608181   \n",
       "4       4.25  8036.070691  793.910187   495.323221  3921.030042  1177.608181   \n",
       "5       3.50  6777.351883  938.874158   659.548465  2896.122658   723.337866   \n",
       "\n",
       "       ndvi_P5  ndvi_amplitude  tmoy_P0_Moy  tmoy_P1_Moy  ...     rfe_P4  \\\n",
       "1  1764.016714       40.998731    16.047921    13.250036  ...  10.996657   \n",
       "2  1764.016714       40.998731    16.047921    13.250036  ...  10.996657   \n",
       "3  1648.199059       41.132432    16.377285    13.326939  ...  11.073161   \n",
       "4  1648.199059       41.132432    16.377285    13.326939  ...  11.073161   \n",
       "5  1559.468736       36.682100    15.784672    13.569840  ...   7.109621   \n",
       "\n",
       "      rfe_P5    rfe_std  swi_P0_Moy  swi_P1_Moy  swi_P2_Moy  swi_P3_Moy  \\\n",
       "1  62.848852  43.993234   92.719736   75.921828   99.539719  102.609583   \n",
       "2  62.848852  43.993234   92.719736   75.921828   99.539719  102.609583   \n",
       "3  62.651850  39.632458   87.032500   88.159466   90.310249   97.504443   \n",
       "4  62.651850  39.632458   87.032500   88.159466   90.310249   97.504443   \n",
       "5  54.290442  37.846647   90.424877   95.458143   98.171550   97.868668   \n",
       "\n",
       "   swi_P4_Moy  swi_P5_Moy    swi_std  \n",
       "1   85.221631   76.915317  12.219110  \n",
       "2   85.221631   76.915317  12.219110  \n",
       "3   80.478595   69.939774  12.773913  \n",
       "4   80.478595   69.939774  12.773913  \n",
       "5   83.102374   74.574523  11.936150  \n",
       "\n",
       "[5 rows x 29 columns]"
      ]
     },
     "execution_count": 53,
     "metadata": {},
     "output_type": "execute_result"
    }
   ],
   "source": [
    "df_final.head()"
   ]
  },
  {
   "cell_type": "code",
   "execution_count": 54,
   "metadata": {},
   "outputs": [
    {
     "data": {
      "text/plain": [
       "((404, 30), (395, 29))"
      ]
     },
     "execution_count": 54,
     "metadata": {},
     "output_type": "execute_result"
    }
   ],
   "source": [
    "df.shape, df_final.shape"
   ]
  },
  {
   "cell_type": "markdown",
   "metadata": {},
   "source": [
    "Et donc comme on voit, il nous reste que 395 lignes et 29 colonnes."
   ]
  },
  {
   "cell_type": "markdown",
   "metadata": {},
   "source": [
    "Maintenant, on va définir les variables X et y."
   ]
  },
  {
   "cell_type": "code",
   "execution_count": 55,
   "metadata": {},
   "outputs": [],
   "source": [
    "X = df_final.drop('Rendement',axis=1)\n",
    "y = df_final['Rendement']"
   ]
  },
  {
   "cell_type": "code",
   "execution_count": 56,
   "metadata": {},
   "outputs": [
    {
     "name": "stdout",
     "output_type": "stream",
     "text": [
      "X.shape = (395, 28)\n",
      "y.shape = (395,)\n"
     ]
    }
   ],
   "source": [
    "print(f'{X.shape = }');print(f'{y.shape = }')"
   ]
  },
  {
   "cell_type": "markdown",
   "metadata": {},
   "source": [
    "On va prendre 80% de la dataset pour l'entrainement et 20% pour le test."
   ]
  },
  {
   "cell_type": "code",
   "execution_count": 57,
   "metadata": {},
   "outputs": [],
   "source": [
    "from sklearn.model_selection import train_test_split\n",
    "X_train, X_test, y_train, y_test = train_test_split(X,y,test_size=0.2,random_state=2023)"
   ]
  },
  {
   "cell_type": "code",
   "execution_count": 58,
   "metadata": {},
   "outputs": [
    {
     "data": {
      "text/plain": [
       "((316, 28), (79, 28), (316,), (79,), (395, 28), (395,))"
      ]
     },
     "execution_count": 58,
     "metadata": {},
     "output_type": "execute_result"
    }
   ],
   "source": [
    "X_train.shape, X_test.shape, y_train.shape, y_test.shape, X.shape, y.shape"
   ]
  },
  {
   "cell_type": "markdown",
   "metadata": {},
   "source": [
    "Et avant de commencer l'entrainement, on va standardiser les données. c-à-d, on va les mettre à la même échelle."
   ]
  },
  {
   "cell_type": "code",
   "execution_count": 59,
   "metadata": {},
   "outputs": [],
   "source": [
    "from sklearn.preprocessing import StandardScaler\n",
    "scaler = StandardScaler()\n",
    "X_train_scaled = scaler.fit_transform(X_train)\n",
    "X_test_scaled = scaler.transform(X_test)"
   ]
  },
  {
   "cell_type": "code",
   "execution_count": 60,
   "metadata": {},
   "outputs": [
    {
     "data": {
      "text/plain": [
       "((316, 28), (79, 28))"
      ]
     },
     "execution_count": 60,
     "metadata": {},
     "output_type": "execute_result"
    }
   ],
   "source": [
    "X_train_scaled.shape, X_test_scaled.shape"
   ]
  },
  {
   "cell_type": "markdown",
   "metadata": {},
   "source": [
    "### 2- Entrainement des modèles"
   ]
  },
  {
   "cell_type": "markdown",
   "metadata": {},
   "source": [
    "C'est un problème de régression. Donc on va utiliser plusieurs modèles de régression pour voir lequel est le plus performant.\n",
    "- LinearRegression\n",
    "- DecisionTreeRegressor\n",
    "- RandomForestRegressor\n",
    "- SupportVectorRegressor\n",
    "- NeuralNetworkRegressor\n",
    "- GradientBoostingRegressor"
   ]
  },
  {
   "cell_type": "markdown",
   "metadata": {},
   "source": [
    "On commence par importer les modèles de régression."
   ]
  },
  {
   "cell_type": "code",
   "execution_count": 61,
   "metadata": {},
   "outputs": [],
   "source": [
    "from sklearn.linear_model import LinearRegression\n",
    "from sklearn.tree import DecisionTreeRegressor\n",
    "from sklearn.ensemble import RandomForestRegressor, GradientBoostingRegressor\n",
    "from sklearn.svm import SVR\n",
    "from sklearn.neural_network import MLPRegressor"
   ]
  },
  {
   "cell_type": "markdown",
   "metadata": {},
   "source": [
    "On initialise les modèles de régression."
   ]
  },
  {
   "cell_type": "code",
   "execution_count": 62,
   "metadata": {},
   "outputs": [],
   "source": [
    "linear_reg_model = LinearRegression()\n",
    "decision_tree_model = DecisionTreeRegressor(random_state=2023)\n",
    "random_forest_model = RandomForestRegressor(random_state=2023)\n",
    "gradient_boosting_model = GradientBoostingRegressor(random_state=2023)\n",
    "svr_model = SVR(kernel='linear')\n",
    "neural_network_model = MLPRegressor(random_state=2023)"
   ]
  },
  {
   "cell_type": "markdown",
   "metadata": {},
   "source": [
    "On entraine les modèles de régression."
   ]
  },
  {
   "cell_type": "code",
   "execution_count": 63,
   "metadata": {},
   "outputs": [
    {
     "name": "stderr",
     "output_type": "stream",
     "text": [
      "c:\\ProgramData\\Anaconda3\\lib\\site-packages\\sklearn\\neural_network\\_multilayer_perceptron.py:692: ConvergenceWarning: Stochastic Optimizer: Maximum iterations (200) reached and the optimization hasn't converged yet.\n",
      "  warnings.warn(\n"
     ]
    },
    {
     "data": {
      "text/plain": [
       "MLPRegressor(random_state=2023)"
      ]
     },
     "execution_count": 63,
     "metadata": {},
     "output_type": "execute_result"
    }
   ],
   "source": [
    "linear_reg_model.fit(X_train_scaled, y_train)\n",
    "decision_tree_model.fit(X_train_scaled, y_train)\n",
    "random_forest_model.fit(X_train_scaled, y_train)\n",
    "gradient_boosting_model.fit(X_train_scaled, y_train)\n",
    "svr_model.fit(X_train_scaled, y_train)\n",
    "neural_network_model.fit(X_train_scaled, y_train)"
   ]
  },
  {
   "cell_type": "markdown",
   "metadata": {},
   "source": [
    "On performe des prédictions sur les données de test."
   ]
  },
  {
   "cell_type": "code",
   "execution_count": 64,
   "metadata": {},
   "outputs": [],
   "source": [
    "linear_reg_predictions = linear_reg_model.predict(X_test_scaled)\n",
    "decision_tree_predictions = decision_tree_model.predict(X_test_scaled)\n",
    "random_forest_predictions = random_forest_model.predict(X_test_scaled)\n",
    "gradient_boosting_predictions = gradient_boosting_model.predict(X_test_scaled)\n",
    "svr_predictions = svr_model.predict(X_test_scaled)\n",
    "neural_network_predictions = neural_network_model.predict(X_test_scaled)"
   ]
  },
  {
   "cell_type": "markdown",
   "metadata": {},
   "source": [
    "Et maintenant, on va comparer les performances des modèles de régression."
   ]
  },
  {
   "cell_type": "markdown",
   "metadata": {},
   "source": [
    "### 3- Evaluation des modèles"
   ]
  },
  {
   "cell_type": "markdown",
   "metadata": {},
   "source": [
    "On commence par importer les métriques de performance pour évaluer les modèles."
   ]
  },
  {
   "cell_type": "code",
   "execution_count": 65,
   "metadata": {},
   "outputs": [],
   "source": [
    "from sklearn.metrics import mean_squared_error, mean_absolute_error, r2_score"
   ]
  },
  {
   "cell_type": "markdown",
   "metadata": {},
   "source": [
    "On crée une fonction pour l'évaluation des modèles."
   ]
  },
  {
   "cell_type": "code",
   "execution_count": 66,
   "metadata": {},
   "outputs": [],
   "source": [
    "def evaluate_model(model_name, y_test, predictions):\n",
    "    mse = mean_squared_error(y_test, predictions)\n",
    "    mae = mean_absolute_error(y_test, predictions)\n",
    "    r2 = r2_score(y_test, predictions)*100\n",
    "    print(f\"{model_name} - MSE: {mse:.4f}, MAE: {mae:.4f}, R-squared: {r2:.2f}%\")"
   ]
  },
  {
   "cell_type": "code",
   "execution_count": 67,
   "metadata": {},
   "outputs": [],
   "source": [
    "liste_des_models = [('Linear Regression', linear_reg_predictions), \n",
    "                  ('Decision Tree', decision_tree_predictions),\n",
    "                  ('Random Forest', random_forest_predictions), \n",
    "                  ('Gradient Boosting', gradient_boosting_predictions), \n",
    "                  ('SVR', svr_predictions), \n",
    "                  ('Neural Network', neural_network_predictions)]"
   ]
  },
  {
   "cell_type": "markdown",
   "metadata": {},
   "source": [
    "Affichage des résultats"
   ]
  },
  {
   "cell_type": "code",
   "execution_count": 68,
   "metadata": {},
   "outputs": [
    {
     "name": "stdout",
     "output_type": "stream",
     "text": [
      "Linear Regression - MSE: 37.9338, MAE: 5.1150, R-squared: 67.90%\n",
      "Decision Tree - MSE: 22.9187, MAE: 3.1647, R-squared: 80.60%\n",
      "Random Forest - MSE: 14.0203, MAE: 2.7439, R-squared: 88.13%\n",
      "Gradient Boosting - MSE: 12.7896, MAE: 2.6360, R-squared: 89.18%\n",
      "SVR - MSE: 41.4540, MAE: 5.1296, R-squared: 64.92%\n",
      "Neural Network - MSE: 36.7356, MAE: 4.6383, R-squared: 68.91%\n"
     ]
    }
   ],
   "source": [
    "for model_name, predictions in liste_des_models:\n",
    "    evaluate_model(model_name, y_test, predictions)"
   ]
  },
  {
   "cell_type": "markdown",
   "metadata": {},
   "source": [
    "Il sera mieux de visualiser ces résultats sous forme de barplot."
   ]
  },
  {
   "cell_type": "code",
   "execution_count": 69,
   "metadata": {},
   "outputs": [
    {
     "data": {
      "image/png": "[encoded data removed]",
      "text/plain": [
       "<Figure size 720x432 with 1 Axes>"
      ]
     },
     "metadata": {
      "needs_background": "light"
     },
     "output_type": "display_data"
    }
   ],
   "source": [
    "import numpy as np\n",
    "import matplotlib.pyplot as plt\n",
    "models = ['Linear Regression', 'Decision Tree', 'Random Forest', 'Gradient Boosting', 'SVR', 'Neural Network']\n",
    "mse_values = [37.93384840675039, 22.9187, 14.020306141275364, 12.789590916266876, 41.453991974642086, 36.73563600592251]\n",
    "mae_values = [5.115028105861353, 3.1646835443037977, 2.7438976491862563, 2.6359562050690224, 5.129598143642109, 4.638279607136452]\n",
    "r_squared_values = [67.89511987397542, 80.60301954458747, 88.13407373885872, 89.17567553851002, 64.91588649744702, 68.90921327893693]\n",
    "\n",
    "fig, ax = plt.subplots(figsize=(10, 6))\n",
    "bar_width = 0.2\n",
    "index = np.arange(len(models))\n",
    "\n",
    "plt.bar(index, mse_values, width=bar_width, label='MSE')\n",
    "plt.bar(index + bar_width, mae_values, width=bar_width, label='MAE')\n",
    "plt.bar(index + 2 * bar_width, r_squared_values, width=bar_width, label='R-squared')\n",
    "plt.xlabel('Modeèles')\n",
    "plt.ylabel('Valeurs des métriques')\n",
    "plt.title('Métriques de performance des modèles')\n",
    "plt.xticks(index + bar_width, models)\n",
    "plt.legend()\n",
    "plt.tight_layout()\n",
    "plt.show()\n"
   ]
  },
  {
   "cell_type": "markdown",
   "metadata": {},
   "source": [
    "Et donc le meilleur modèle est celui qui a le R-squared le plus élevé(plus proche de 100%), le MSE et le MAE les plus faibles."
   ]
  },
  {
   "cell_type": "markdown",
   "metadata": {},
   "source": [
    "### 4- Choix du meilleur modèle et prédiction du rendement"
   ]
  },
  {
   "cell_type": "markdown",
   "metadata": {},
   "source": [
    "Et donc dans notre cas, le meilleur modèle est GradientBoostingRegressor."
   ]
  },
  {
   "cell_type": "code",
   "execution_count": 70,
   "metadata": {},
   "outputs": [],
   "source": [
    "model_final = gradient_boosting_model"
   ]
  },
  {
   "cell_type": "markdown",
   "metadata": {},
   "source": [
    "Et donc pour ne pas oublier, notre but était de predire le rendement pour l'année 2023; c'est la 1ere valeur de la dataset originale."
   ]
  },
  {
   "cell_type": "code",
   "execution_count": 71,
   "metadata": {},
   "outputs": [
    {
     "name": "stdout",
     "output_type": "stream",
     "text": [
      "ndvi_P0           6937.632607\n",
      "ndvi_P1            708.277539\n",
      "ndvi_P2            754.210350\n",
      "ndvi_P3           3188.349591\n",
      "ndvi_P4            714.508766\n",
      "ndvi_P5           1572.286362\n",
      "ndvi_amplitude      39.003196\n",
      "tmoy_P0_Moy         16.682056\n",
      "tmoy_P1_Moy         13.185429\n",
      "tmoy_P2_Moy         13.573035\n",
      "tmoy_P3_Moy         14.241059\n",
      "tmoy_P4_Moy         18.341769\n",
      "tmoy_P5_Moy         19.518738\n",
      "tmoy_amplitude      13.230655\n",
      "rfe_P0             155.158308\n",
      "rfe_P1              27.796776\n",
      "rfe_P2              13.384145\n",
      "rfe_P3              45.048130\n",
      "rfe_P4               7.620358\n",
      "rfe_P5              61.308898\n",
      "rfe_std             40.391162\n",
      "swi_P0_Moy          79.918110\n",
      "swi_P1_Moy          86.375883\n",
      "swi_P2_Moy          91.954104\n",
      "swi_P3_Moy          91.790281\n",
      "swi_P4_Moy          71.112095\n",
      "swi_P5_Moy          57.243048\n",
      "swi_std             17.572625\n",
      "Name: 0, dtype: float64\n"
     ]
    }
   ],
   "source": [
    "valeurs_pour_predire_rendement = df.iloc[0][2:] \n",
    "#On prend la 1ère ligne de la dataframe df\n",
    "#ainsi que les colonnes à partir de la 3ème colonne pour éviter la valeur de campagne 2023 et celle de rendement qui est manquante\n",
    "print(valeurs_pour_predire_rendement)"
   ]
  },
  {
   "cell_type": "code",
   "execution_count": 72,
   "metadata": {},
   "outputs": [
    {
     "data": {
      "text/plain": [
       "array([20.11270895])"
      ]
     },
     "execution_count": 72,
     "metadata": {},
     "output_type": "execute_result"
    }
   ],
   "source": [
    "model_final.predict([valeurs_pour_predire_rendement])"
   ]
  },
  {
   "cell_type": "markdown",
   "metadata": {},
   "source": [
    "# Conclusion"
   ]
  },
  {
   "cell_type": "markdown",
   "metadata": {},
   "source": [
    "## D'après notre modèle, le rendement pour l'année 2023 sera 20.11270895"
   ]
  },
  {
   "cell_type": "markdown",
   "metadata": {},
   "source": [
    "Enfin, on peut finir par sauvgarder le modèle pour l'utiliser plus tard sans avoir à le réentrainer. \n",
    "\n",
    "Et donc on va sauvgarder le modèle GradientBoostingRegressor sous forme de fichier pickle(model.pkl)."
   ]
  },
  {
   "cell_type": "code",
   "execution_count": 73,
   "metadata": {},
   "outputs": [],
   "source": [
    "import pickle\n",
    "\n",
    "with open('model.pkl', 'wb') as file:\n",
    "    pickle.dump(gradient_boosting_model, file)"
   ]
  },
  {
   "cell_type": "markdown",
   "metadata": {},
   "source": [
    "Il suffit juste de charger le modèle et de faire des prédictions."
   ]
  },
  {
   "cell_type": "code",
   "execution_count": 74,
   "metadata": {},
   "outputs": [
    {
     "data": {
      "text/plain": [
       "array([20.11270895])"
      ]
     },
     "execution_count": 74,
     "metadata": {},
     "output_type": "execute_result"
    }
   ],
   "source": [
    "with open('model.pkl', 'rb') as file:\n",
    "    model = pickle.load(file)\n",
    "model.predict([valeurs_pour_predire_rendement])"
   ]
  },
  {
   "cell_type": "markdown",
   "metadata": {},
   "source": [
    "Et comme on le voit clairement, le fichier model.pkl est bien sauvgardé et a bien était utiliser pour predire la meme valeur."
   ]
  }
 ],
 "metadata": {
  "kernelspec": {
   "display_name": "Python 3 (ipykernel)",
   "language": "python",
   "name": "python3"
  },
  "language_info": {
   "codemirror_mode": {
    "name": "ipython",
    "version": 3
   },
   "file_extension": ".py",
   "mimetype": "text/x-python",
   "name": "python",
   "nbconvert_exporter": "python",
   "pygments_lexer": "ipython3",
   "version": "3.10.8"
  }
 },
 "nbformat": 4,
 "nbformat_minor": 2
}
